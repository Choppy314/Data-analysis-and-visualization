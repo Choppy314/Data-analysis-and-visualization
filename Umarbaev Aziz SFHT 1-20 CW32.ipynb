{
 "cells": [
  {
   "cell_type": "code",
   "execution_count": 1,
   "metadata": {},
   "outputs": [],
   "source": [
    "import h3 \n",
    "import folium\n",
    "import pandas as pd\n",
    "import numpy as np\n",
    "import matplotlib.pyplot as plt\n",
    "import seaborn as sns \n",
    "from sklearn.ensemble import RandomForestClassifier\n",
    "from sklearn.model_selection import train_test_split\n",
    "import plotly.express as px\n",
    "import folium \n",
    "import os \n",
    "import random\n",
    "import plotly.graph_objects as go\n",
    "from folium import plugins\n",
    "from tqdm import tqdm\n",
    "from plotly.subplots import make_subplots\n",
    "import missingno as msno \n",
    "import json\n",
    "import geojson\n",
    "import matplotlib\n",
    "import re\n",
    "from sklearn.preprocessing import LabelEncoder\n",
    "from sklearn.cluster import KMeans\n",
    "\n",
    "%matplotlib inline \n",
    "get_ipython().run_line_magic('matplotlib', 'inline')"
   ]
  },
  {
   "cell_type": "code",
   "execution_count": 26,
   "metadata": {},
   "outputs": [
    {
     "data": {
      "text/html": [
       "<div>\n",
       "<style scoped>\n",
       "    .dataframe tbody tr th:only-of-type {\n",
       "        vertical-align: middle;\n",
       "    }\n",
       "\n",
       "    .dataframe tbody tr th {\n",
       "        vertical-align: top;\n",
       "    }\n",
       "\n",
       "    .dataframe thead th {\n",
       "        text-align: right;\n",
       "    }\n",
       "</style>\n",
       "<table border=\"1\" class=\"dataframe\">\n",
       "  <thead>\n",
       "    <tr style=\"text-align: right;\">\n",
       "      <th></th>\n",
       "      <th>Country</th>\n",
       "      <th>Total Cases</th>\n",
       "      <th>Total Deaths</th>\n",
       "      <th>Total Recovered</th>\n",
       "      <th>Active Cases</th>\n",
       "      <th>Total Test</th>\n",
       "      <th>Population</th>\n",
       "    </tr>\n",
       "    <tr>\n",
       "      <th>Serial Number</th>\n",
       "      <th></th>\n",
       "      <th></th>\n",
       "      <th></th>\n",
       "      <th></th>\n",
       "      <th></th>\n",
       "      <th></th>\n",
       "      <th></th>\n",
       "    </tr>\n",
       "  </thead>\n",
       "  <tbody>\n",
       "    <tr>\n",
       "      <th>1</th>\n",
       "      <td>USA</td>\n",
       "      <td>104,196,861</td>\n",
       "      <td>1,132,935</td>\n",
       "      <td>101,322,779</td>\n",
       "      <td>1,741,147</td>\n",
       "      <td>1,159,832,679</td>\n",
       "      <td>334,805,269</td>\n",
       "    </tr>\n",
       "    <tr>\n",
       "      <th>2</th>\n",
       "      <td>India</td>\n",
       "      <td>44,682,784</td>\n",
       "      <td>530,740</td>\n",
       "      <td>44,150,289</td>\n",
       "      <td>1,755</td>\n",
       "      <td>915,265,788</td>\n",
       "      <td>1,406,631,776</td>\n",
       "    </tr>\n",
       "    <tr>\n",
       "      <th>3</th>\n",
       "      <td>France</td>\n",
       "      <td>39,524,311</td>\n",
       "      <td>164,233</td>\n",
       "      <td>39,264,546</td>\n",
       "      <td>95,532</td>\n",
       "      <td>271,490,188</td>\n",
       "      <td>65,584,518</td>\n",
       "    </tr>\n",
       "    <tr>\n",
       "      <th>4</th>\n",
       "      <td>Germany</td>\n",
       "      <td>37,779,833</td>\n",
       "      <td>165,711</td>\n",
       "      <td>37,398,100</td>\n",
       "      <td>216,022</td>\n",
       "      <td>122,332,384</td>\n",
       "      <td>83,883,596</td>\n",
       "    </tr>\n",
       "    <tr>\n",
       "      <th>5</th>\n",
       "      <td>Brazil</td>\n",
       "      <td>36,824,580</td>\n",
       "      <td>697,074</td>\n",
       "      <td>35,919,372</td>\n",
       "      <td>208,134</td>\n",
       "      <td>63,776,166</td>\n",
       "      <td>215,353,593</td>\n",
       "    </tr>\n",
       "    <tr>\n",
       "      <th>...</th>\n",
       "      <td>...</td>\n",
       "      <td>...</td>\n",
       "      <td>...</td>\n",
       "      <td>...</td>\n",
       "      <td>...</td>\n",
       "      <td>...</td>\n",
       "      <td>...</td>\n",
       "    </tr>\n",
       "    <tr>\n",
       "      <th>227</th>\n",
       "      <td>Diamond Princess</td>\n",
       "      <td>712</td>\n",
       "      <td>13</td>\n",
       "      <td>699</td>\n",
       "      <td>0</td>\n",
       "      <td>NaN</td>\n",
       "      <td>NaN</td>\n",
       "    </tr>\n",
       "    <tr>\n",
       "      <th>228</th>\n",
       "      <td>Vatican City</td>\n",
       "      <td>29</td>\n",
       "      <td>NaN</td>\n",
       "      <td>29</td>\n",
       "      <td>0</td>\n",
       "      <td>NaN</td>\n",
       "      <td>799</td>\n",
       "    </tr>\n",
       "    <tr>\n",
       "      <th>229</th>\n",
       "      <td>Western Sahara</td>\n",
       "      <td>10</td>\n",
       "      <td>1</td>\n",
       "      <td>9</td>\n",
       "      <td>0</td>\n",
       "      <td>NaN</td>\n",
       "      <td>626,161</td>\n",
       "    </tr>\n",
       "    <tr>\n",
       "      <th>230</th>\n",
       "      <td>MS Zaandam</td>\n",
       "      <td>9</td>\n",
       "      <td>2</td>\n",
       "      <td>7</td>\n",
       "      <td>0</td>\n",
       "      <td>NaN</td>\n",
       "      <td>NaN</td>\n",
       "    </tr>\n",
       "    <tr>\n",
       "      <th>231</th>\n",
       "      <td>Tokelau</td>\n",
       "      <td>5</td>\n",
       "      <td>NaN</td>\n",
       "      <td>NaN</td>\n",
       "      <td>5</td>\n",
       "      <td>NaN</td>\n",
       "      <td>1,378</td>\n",
       "    </tr>\n",
       "  </tbody>\n",
       "</table>\n",
       "<p>231 rows × 7 columns</p>\n",
       "</div>"
      ],
      "text/plain": [
       "                        Country  Total Cases Total Deaths Total Recovered  \\\n",
       "Serial Number                                                               \n",
       "1                           USA  104,196,861    1,132,935     101,322,779   \n",
       "2                         India   44,682,784      530,740      44,150,289   \n",
       "3                        France   39,524,311      164,233      39,264,546   \n",
       "4                       Germany   37,779,833      165,711      37,398,100   \n",
       "5                        Brazil   36,824,580      697,074      35,919,372   \n",
       "...                         ...          ...          ...             ...   \n",
       "227            Diamond Princess          712           13             699   \n",
       "228                Vatican City           29          NaN              29   \n",
       "229              Western Sahara           10            1               9   \n",
       "230                  MS Zaandam            9            2               7   \n",
       "231                     Tokelau            5          NaN             NaN   \n",
       "\n",
       "              Active Cases     Total Test     Population  \n",
       "Serial Number                                             \n",
       "1                1,741,147  1,159,832,679    334,805,269  \n",
       "2                    1,755    915,265,788  1,406,631,776  \n",
       "3                   95,532    271,490,188     65,584,518  \n",
       "4                  216,022    122,332,384     83,883,596  \n",
       "5                  208,134     63,776,166    215,353,593  \n",
       "...                    ...            ...            ...  \n",
       "227                      0            NaN            NaN  \n",
       "228                      0            NaN            799  \n",
       "229                      0            NaN        626,161  \n",
       "230                      0            NaN            NaN  \n",
       "231                      5            NaN          1,378  \n",
       "\n",
       "[231 rows x 7 columns]"
      ]
     },
     "execution_count": 26,
     "metadata": {},
     "output_type": "execute_result"
    }
   ],
   "source": [
    "df = pd.read_csv('covid_worldwide.csv', index_col=0)\n",
    "df"
   ]
  },
  {
   "cell_type": "code",
   "execution_count": 27,
   "metadata": {},
   "outputs": [
    {
     "name": "stdout",
     "output_type": "stream",
     "text": [
      "<class 'pandas.core.frame.DataFrame'>\n",
      "Int64Index: 231 entries, 1 to 231\n",
      "Data columns (total 7 columns):\n",
      " #   Column           Non-Null Count  Dtype \n",
      "---  ------           --------------  ----- \n",
      " 0   Country          231 non-null    object\n",
      " 1   Total Cases      231 non-null    object\n",
      " 2   Total Deaths     225 non-null    object\n",
      " 3   Total Recovered  210 non-null    object\n",
      " 4   Active Cases     212 non-null    object\n",
      " 5   Total Test       213 non-null    object\n",
      " 6   Population       228 non-null    object\n",
      "dtypes: object(7)\n",
      "memory usage: 14.4+ KB\n"
     ]
    }
   ],
   "source": [
    "df.info()"
   ]
  },
  {
   "cell_type": "code",
   "execution_count": 28,
   "metadata": {},
   "outputs": [
    {
     "data": {
      "text/html": [
       "<div>\n",
       "<style scoped>\n",
       "    .dataframe tbody tr th:only-of-type {\n",
       "        vertical-align: middle;\n",
       "    }\n",
       "\n",
       "    .dataframe tbody tr th {\n",
       "        vertical-align: top;\n",
       "    }\n",
       "\n",
       "    .dataframe thead th {\n",
       "        text-align: right;\n",
       "    }\n",
       "</style>\n",
       "<table border=\"1\" class=\"dataframe\">\n",
       "  <thead>\n",
       "    <tr style=\"text-align: right;\">\n",
       "      <th></th>\n",
       "      <th>Country</th>\n",
       "      <th>Total Cases</th>\n",
       "      <th>Total Deaths</th>\n",
       "      <th>Total Recovered</th>\n",
       "      <th>Active Cases</th>\n",
       "      <th>Total Test</th>\n",
       "      <th>Population</th>\n",
       "    </tr>\n",
       "  </thead>\n",
       "  <tbody>\n",
       "    <tr>\n",
       "      <th>count</th>\n",
       "      <td>231</td>\n",
       "      <td>231</td>\n",
       "      <td>225</td>\n",
       "      <td>210</td>\n",
       "      <td>212</td>\n",
       "      <td>213</td>\n",
       "      <td>228</td>\n",
       "    </tr>\n",
       "    <tr>\n",
       "      <th>unique</th>\n",
       "      <td>231</td>\n",
       "      <td>231</td>\n",
       "      <td>213</td>\n",
       "      <td>210</td>\n",
       "      <td>181</td>\n",
       "      <td>212</td>\n",
       "      <td>228</td>\n",
       "    </tr>\n",
       "    <tr>\n",
       "      <th>top</th>\n",
       "      <td>Isle of Man</td>\n",
       "      <td>1,576,313</td>\n",
       "      <td>38</td>\n",
       "      <td>29,740,877</td>\n",
       "      <td>0</td>\n",
       "      <td>78,646</td>\n",
       "      <td>3,378,078</td>\n",
       "    </tr>\n",
       "    <tr>\n",
       "      <th>freq</th>\n",
       "      <td>1</td>\n",
       "      <td>1</td>\n",
       "      <td>3</td>\n",
       "      <td>1</td>\n",
       "      <td>8</td>\n",
       "      <td>2</td>\n",
       "      <td>1</td>\n",
       "    </tr>\n",
       "  </tbody>\n",
       "</table>\n",
       "</div>"
      ],
      "text/plain": [
       "            Country Total Cases Total Deaths Total Recovered Active Cases  \\\n",
       "count           231         231          225             210          212   \n",
       "unique          231         231          213             210          181   \n",
       "top     Isle of Man   1,576,313           38      29,740,877            0   \n",
       "freq              1           1            3               1            8   \n",
       "\n",
       "       Total Test Population  \n",
       "count         213        228  \n",
       "unique        212        228  \n",
       "top        78,646  3,378,078  \n",
       "freq            2          1  "
      ]
     },
     "execution_count": 28,
     "metadata": {},
     "output_type": "execute_result"
    }
   ],
   "source": [
    "df.describe()"
   ]
  },
  {
   "cell_type": "code",
   "execution_count": 29,
   "metadata": {},
   "outputs": [
    {
     "data": {
      "text/plain": [
       "0"
      ]
     },
     "execution_count": 29,
     "metadata": {},
     "output_type": "execute_result"
    }
   ],
   "source": [
    "df.duplicated().sum()"
   ]
  },
  {
   "cell_type": "code",
   "execution_count": 30,
   "metadata": {},
   "outputs": [
    {
     "data": {
      "text/plain": [
       "(231, 7)"
      ]
     },
     "execution_count": 30,
     "metadata": {},
     "output_type": "execute_result"
    }
   ],
   "source": [
    "df.shape"
   ]
  },
  {
   "cell_type": "code",
   "execution_count": 31,
   "metadata": {},
   "outputs": [
    {
     "data": {
      "text/plain": [
       "Country             0\n",
       "Total Cases         0\n",
       "Total Deaths        6\n",
       "Total Recovered    21\n",
       "Active Cases       19\n",
       "Total Test         18\n",
       "Population          3\n",
       "dtype: int64"
      ]
     },
     "execution_count": 31,
     "metadata": {},
     "output_type": "execute_result"
    }
   ],
   "source": [
    "df.isnull().sum()"
   ]
  },
  {
   "cell_type": "code",
   "execution_count": 32,
   "metadata": {},
   "outputs": [],
   "source": [
    "df.fillna(0 , inplace = True)"
   ]
  },
  {
   "cell_type": "code",
   "execution_count": 33,
   "metadata": {},
   "outputs": [
    {
     "data": {
      "text/plain": [
       "Country            0\n",
       "Total Cases        0\n",
       "Total Deaths       0\n",
       "Total Recovered    0\n",
       "Active Cases       0\n",
       "Total Test         0\n",
       "Population         0\n",
       "dtype: int64"
      ]
     },
     "execution_count": 33,
     "metadata": {},
     "output_type": "execute_result"
    }
   ],
   "source": [
    "df.isnull().sum()"
   ]
  },
  {
   "cell_type": "code",
   "execution_count": 34,
   "metadata": {},
   "outputs": [],
   "source": [
    "df.columns = df.columns.str.replace(' ', '_')"
   ]
  },
  {
   "cell_type": "code",
   "execution_count": 35,
   "metadata": {},
   "outputs": [],
   "source": [
    "df['Total_Deaths'] = df['Total_Deaths'].astype(str).str.replace(',', '').astype(float)\n",
    "df['Total_Cases'] = df['Total_Cases'].astype(str).str.replace(',', '').astype(float)\n",
    "df['Total_Recovered'] = df['Total_Recovered'].astype(str).str.replace(',', '').astype(float)\n",
    "df['Active_Cases'] = df['Active_Cases'].astype(str).str.replace(',', '').astype(float)\n",
    "df['Total_Test'] = df['Total_Test'].astype(str).str.replace(',', '').astype(float)\n",
    "df['Population'] = df['Population'].astype(str).str.replace(',', '').astype(float)"
   ]
  },
  {
   "cell_type": "code",
   "execution_count": 36,
   "metadata": {},
   "outputs": [
    {
     "name": "stdout",
     "output_type": "stream",
     "text": [
      "<class 'pandas.core.frame.DataFrame'>\n",
      "Int64Index: 231 entries, 1 to 231\n",
      "Data columns (total 7 columns):\n",
      " #   Column           Non-Null Count  Dtype  \n",
      "---  ------           --------------  -----  \n",
      " 0   Country          231 non-null    object \n",
      " 1   Total_Cases      231 non-null    float64\n",
      " 2   Total_Deaths     231 non-null    float64\n",
      " 3   Total_Recovered  231 non-null    float64\n",
      " 4   Active_Cases     231 non-null    float64\n",
      " 5   Total_Test       231 non-null    float64\n",
      " 6   Population       231 non-null    float64\n",
      "dtypes: float64(6), object(1)\n",
      "memory usage: 14.4+ KB\n"
     ]
    }
   ],
   "source": [
    "df.info()"
   ]
  },
  {
   "cell_type": "code",
   "execution_count": 37,
   "metadata": {},
   "outputs": [
    {
     "data": {
      "text/html": [
       "<div>\n",
       "<style scoped>\n",
       "    .dataframe tbody tr th:only-of-type {\n",
       "        vertical-align: middle;\n",
       "    }\n",
       "\n",
       "    .dataframe tbody tr th {\n",
       "        vertical-align: top;\n",
       "    }\n",
       "\n",
       "    .dataframe thead th {\n",
       "        text-align: right;\n",
       "    }\n",
       "</style>\n",
       "<table border=\"1\" class=\"dataframe\">\n",
       "  <thead>\n",
       "    <tr style=\"text-align: right;\">\n",
       "      <th></th>\n",
       "      <th>Total_Deaths</th>\n",
       "      <th>Country</th>\n",
       "    </tr>\n",
       "    <tr>\n",
       "      <th>Serial Number</th>\n",
       "      <th></th>\n",
       "      <th></th>\n",
       "    </tr>\n",
       "  </thead>\n",
       "  <tbody>\n",
       "    <tr>\n",
       "      <th>1</th>\n",
       "      <td>1132935.0</td>\n",
       "      <td>USA</td>\n",
       "    </tr>\n",
       "    <tr>\n",
       "      <th>5</th>\n",
       "      <td>697074.0</td>\n",
       "      <td>Brazil</td>\n",
       "    </tr>\n",
       "    <tr>\n",
       "      <th>2</th>\n",
       "      <td>530740.0</td>\n",
       "      <td>India</td>\n",
       "    </tr>\n",
       "    <tr>\n",
       "      <th>10</th>\n",
       "      <td>395108.0</td>\n",
       "      <td>Russia</td>\n",
       "    </tr>\n",
       "    <tr>\n",
       "      <th>19</th>\n",
       "      <td>332198.0</td>\n",
       "      <td>Mexico</td>\n",
       "    </tr>\n",
       "    <tr>\n",
       "      <th>35</th>\n",
       "      <td>218931.0</td>\n",
       "      <td>Peru</td>\n",
       "    </tr>\n",
       "    <tr>\n",
       "      <th>9</th>\n",
       "      <td>204171.0</td>\n",
       "      <td>UK</td>\n",
       "    </tr>\n",
       "    <tr>\n",
       "      <th>8</th>\n",
       "      <td>186833.0</td>\n",
       "      <td>Italy</td>\n",
       "    </tr>\n",
       "    <tr>\n",
       "      <th>4</th>\n",
       "      <td>165711.0</td>\n",
       "      <td>Germany</td>\n",
       "    </tr>\n",
       "    <tr>\n",
       "      <th>3</th>\n",
       "      <td>164233.0</td>\n",
       "      <td>France</td>\n",
       "    </tr>\n",
       "  </tbody>\n",
       "</table>\n",
       "</div>"
      ],
      "text/plain": [
       "               Total_Deaths  Country\n",
       "Serial Number                       \n",
       "1                 1132935.0      USA\n",
       "5                  697074.0   Brazil\n",
       "2                  530740.0    India\n",
       "10                 395108.0   Russia\n",
       "19                 332198.0   Mexico\n",
       "35                 218931.0     Peru\n",
       "9                  204171.0       UK\n",
       "8                  186833.0    Italy\n",
       "4                  165711.0  Germany\n",
       "3                  164233.0   France"
      ]
     },
     "execution_count": 37,
     "metadata": {},
     "output_type": "execute_result"
    }
   ],
   "source": [
    "Topdeaths = df[['Total_Deaths', 'Country']].sort_values(by='Total_Deaths', ascending = False)\n",
    "Topdeaths = Topdeaths.head(10)\n",
    "Topdeaths.head(10)"
   ]
  },
  {
   "cell_type": "code",
   "execution_count": 39,
   "metadata": {},
   "outputs": [
    {
     "data": {
      "image/png": "[encoded data removed]",
      "text/plain": [
       "<Figure size 576x576 with 1 Axes>"
      ]
     },
     "metadata": {
      "needs_background": "light"
     },
     "output_type": "display_data"
    }
   ],
   "source": [
    "plt.figure(figsize = (8,8))\n",
    "graph = sns.barplot(y = 'Total_Deaths', x = 'Country', color = 'black', data = Topdeaths)\n",
    "graph.set_title('Top 10 Countries By Total Deaths')\n",
    "plt.xticks(rotation = 85)\n",
    "plt.show()"
   ]
  },
  {
   "cell_type": "code",
   "execution_count": 41,
   "metadata": {},
   "outputs": [
    {
     "data": {
      "text/html": [
       "<div>\n",
       "<style scoped>\n",
       "    .dataframe tbody tr th:only-of-type {\n",
       "        vertical-align: middle;\n",
       "    }\n",
       "\n",
       "    .dataframe tbody tr th {\n",
       "        vertical-align: top;\n",
       "    }\n",
       "\n",
       "    .dataframe thead th {\n",
       "        text-align: right;\n",
       "    }\n",
       "</style>\n",
       "<table border=\"1\" class=\"dataframe\">\n",
       "  <thead>\n",
       "    <tr style=\"text-align: right;\">\n",
       "      <th></th>\n",
       "      <th>Total_Recovered</th>\n",
       "      <th>Country</th>\n",
       "    </tr>\n",
       "    <tr>\n",
       "      <th>Serial Number</th>\n",
       "      <th></th>\n",
       "      <th></th>\n",
       "    </tr>\n",
       "  </thead>\n",
       "  <tbody>\n",
       "    <tr>\n",
       "      <th>1</th>\n",
       "      <td>101322779.0</td>\n",
       "      <td>USA</td>\n",
       "    </tr>\n",
       "    <tr>\n",
       "      <th>2</th>\n",
       "      <td>44150289.0</td>\n",
       "      <td>India</td>\n",
       "    </tr>\n",
       "    <tr>\n",
       "      <th>3</th>\n",
       "      <td>39264546.0</td>\n",
       "      <td>France</td>\n",
       "    </tr>\n",
       "    <tr>\n",
       "      <th>4</th>\n",
       "      <td>37398100.0</td>\n",
       "      <td>Germany</td>\n",
       "    </tr>\n",
       "    <tr>\n",
       "      <th>5</th>\n",
       "      <td>35919372.0</td>\n",
       "      <td>Brazil</td>\n",
       "    </tr>\n",
       "    <tr>\n",
       "      <th>7</th>\n",
       "      <td>29740877.0</td>\n",
       "      <td>S. Korea</td>\n",
       "    </tr>\n",
       "    <tr>\n",
       "      <th>8</th>\n",
       "      <td>25014986.0</td>\n",
       "      <td>Italy</td>\n",
       "    </tr>\n",
       "    <tr>\n",
       "      <th>9</th>\n",
       "      <td>24020088.0</td>\n",
       "      <td>UK</td>\n",
       "    </tr>\n",
       "    <tr>\n",
       "      <th>6</th>\n",
       "      <td>21567425.0</td>\n",
       "      <td>Japan</td>\n",
       "    </tr>\n",
       "    <tr>\n",
       "      <th>10</th>\n",
       "      <td>21356008.0</td>\n",
       "      <td>Russia</td>\n",
       "    </tr>\n",
       "  </tbody>\n",
       "</table>\n",
       "</div>"
      ],
      "text/plain": [
       "               Total_Recovered   Country\n",
       "Serial Number                           \n",
       "1                  101322779.0       USA\n",
       "2                   44150289.0     India\n",
       "3                   39264546.0    France\n",
       "4                   37398100.0   Germany\n",
       "5                   35919372.0    Brazil\n",
       "7                   29740877.0  S. Korea\n",
       "8                   25014986.0     Italy\n",
       "9                   24020088.0        UK\n",
       "6                   21567425.0     Japan\n",
       "10                  21356008.0    Russia"
      ]
     },
     "execution_count": 41,
     "metadata": {},
     "output_type": "execute_result"
    }
   ],
   "source": [
    "Toprecovered = df[['Total_Recovered', 'Country']].sort_values(by='Total_Recovered', ascending = False)\n",
    "Toprecovered = Toprecovered.head(10)\n",
    "Toprecovered.head(10)"
   ]
  },
  {
   "cell_type": "code",
   "execution_count": 43,
   "metadata": {
    "scrolled": true
   },
   "outputs": [
    {
     "data": {
      "image/png": "[encoded data removed]",
      "text/plain": [
       "<Figure size 576x576 with 1 Axes>"
      ]
     },
     "metadata": {
      "needs_background": "light"
     },
     "output_type": "display_data"
    }
   ],
   "source": [
    "plt.figure(figsize = (8,8))\n",
    "graph = sns.barplot(y = 'Total_Recovered', x = 'Country', color = 'blue', data = Toprecovered)\n",
    "graph.set_title('Top 10 Countries By Total Recovered')\n",
    "plt.xticks(rotation = 85)\n",
    "plt.show()"
   ]
  },
  {
   "cell_type": "code",
   "execution_count": 49,
   "metadata": {
    "scrolled": true
   },
   "outputs": [
    {
     "data": {
      "text/html": [
       "<div>\n",
       "<style scoped>\n",
       "    .dataframe tbody tr th:only-of-type {\n",
       "        vertical-align: middle;\n",
       "    }\n",
       "\n",
       "    .dataframe tbody tr th {\n",
       "        vertical-align: top;\n",
       "    }\n",
       "\n",
       "    .dataframe thead th {\n",
       "        text-align: right;\n",
       "    }\n",
       "</style>\n",
       "<table border=\"1\" class=\"dataframe\">\n",
       "  <thead>\n",
       "    <tr style=\"text-align: right;\">\n",
       "      <th></th>\n",
       "      <th>Total_Deaths</th>\n",
       "      <th>Country</th>\n",
       "      <th>Total_Recovered</th>\n",
       "    </tr>\n",
       "    <tr>\n",
       "      <th>Serial Number</th>\n",
       "      <th></th>\n",
       "      <th></th>\n",
       "      <th></th>\n",
       "    </tr>\n",
       "  </thead>\n",
       "  <tbody>\n",
       "    <tr>\n",
       "      <th>1</th>\n",
       "      <td>1132935.0</td>\n",
       "      <td>USA</td>\n",
       "      <td>101322779.0</td>\n",
       "    </tr>\n",
       "    <tr>\n",
       "      <th>5</th>\n",
       "      <td>697074.0</td>\n",
       "      <td>Brazil</td>\n",
       "      <td>35919372.0</td>\n",
       "    </tr>\n",
       "    <tr>\n",
       "      <th>2</th>\n",
       "      <td>530740.0</td>\n",
       "      <td>India</td>\n",
       "      <td>44150289.0</td>\n",
       "    </tr>\n",
       "    <tr>\n",
       "      <th>10</th>\n",
       "      <td>395108.0</td>\n",
       "      <td>Russia</td>\n",
       "      <td>21356008.0</td>\n",
       "    </tr>\n",
       "    <tr>\n",
       "      <th>19</th>\n",
       "      <td>332198.0</td>\n",
       "      <td>Mexico</td>\n",
       "      <td>6606633.0</td>\n",
       "    </tr>\n",
       "    <tr>\n",
       "      <th>35</th>\n",
       "      <td>218931.0</td>\n",
       "      <td>Peru</td>\n",
       "      <td>4258688.0</td>\n",
       "    </tr>\n",
       "    <tr>\n",
       "      <th>9</th>\n",
       "      <td>204171.0</td>\n",
       "      <td>UK</td>\n",
       "      <td>24020088.0</td>\n",
       "    </tr>\n",
       "    <tr>\n",
       "      <th>8</th>\n",
       "      <td>186833.0</td>\n",
       "      <td>Italy</td>\n",
       "      <td>25014986.0</td>\n",
       "    </tr>\n",
       "    <tr>\n",
       "      <th>4</th>\n",
       "      <td>165711.0</td>\n",
       "      <td>Germany</td>\n",
       "      <td>37398100.0</td>\n",
       "    </tr>\n",
       "    <tr>\n",
       "      <th>3</th>\n",
       "      <td>164233.0</td>\n",
       "      <td>France</td>\n",
       "      <td>39264546.0</td>\n",
       "    </tr>\n",
       "  </tbody>\n",
       "</table>\n",
       "</div>"
      ],
      "text/plain": [
       "               Total_Deaths  Country  Total_Recovered\n",
       "Serial Number                                        \n",
       "1                 1132935.0      USA      101322779.0\n",
       "5                  697074.0   Brazil       35919372.0\n",
       "2                  530740.0    India       44150289.0\n",
       "10                 395108.0   Russia       21356008.0\n",
       "19                 332198.0   Mexico        6606633.0\n",
       "35                 218931.0     Peru        4258688.0\n",
       "9                  204171.0       UK       24020088.0\n",
       "8                  186833.0    Italy       25014986.0\n",
       "4                  165711.0  Germany       37398100.0\n",
       "3                  164233.0   France       39264546.0"
      ]
     },
     "execution_count": 49,
     "metadata": {},
     "output_type": "execute_result"
    }
   ],
   "source": [
    "compare = df[['Total_Deaths', 'Country', 'Total_Recovered']].sort_values(by = 'Total_Deaths', ascending = False)\n",
    "compare = compare.head(10)\n",
    "compare.head(10)"
   ]
  },
  {
   "cell_type": "code",
   "execution_count": 53,
   "metadata": {},
   "outputs": [
    {
     "data": {
      "text/plain": [
       "<function matplotlib.pyplot.show(close=None, block=None)>"
      ]
     },
     "execution_count": 53,
     "metadata": {},
     "output_type": "execute_result"
    },
    {
     "data": {
      "image/png": "[encoded data removed]",
      "text/plain": [
       "<Figure size 1008x720 with 1 Axes>"
      ]
     },
     "metadata": {
      "needs_background": "light"
     },
     "output_type": "display_data"
    }
   ],
   "source": [
    "plt.figure(figsize =(14,10))\n",
    "\n",
    "sns.scatterplot(data = compare, x='Total_Deaths', y = 'Total_Recovered', hue = 'Country')\n",
    "\n",
    "#Add axis labels and title \n",
    "plt.xlabel('Total Deaths')\n",
    "plt.ylabel(\"Total Recovered\")\n",
    "plt.title('Comparison between Deaths and Recoveries')\n",
    "\n",
    "plt.legend(bbox_to_anchor = (1.05,1), loc = 'upper left')\n",
    "for index, row in compare.iterrows():\n",
    "    plt.text(row['Total_Deaths'] + 10000, row['Total_Recovered'] + 10000, row['Country'])\n",
    "plt.show"
   ]
  },
  {
   "cell_type": "code",
   "execution_count": 62,
   "metadata": {
    "scrolled": false
   },
   "outputs": [
    {
     "data": {
      "text/html": [
       "<div>\n",
       "<style scoped>\n",
       "    .dataframe tbody tr th:only-of-type {\n",
       "        vertical-align: middle;\n",
       "    }\n",
       "\n",
       "    .dataframe tbody tr th {\n",
       "        vertical-align: top;\n",
       "    }\n",
       "\n",
       "    .dataframe thead th {\n",
       "        text-align: right;\n",
       "    }\n",
       "</style>\n",
       "<table border=\"1\" class=\"dataframe\">\n",
       "  <thead>\n",
       "    <tr style=\"text-align: right;\">\n",
       "      <th></th>\n",
       "      <th>Total_Deaths</th>\n",
       "      <th>Country</th>\n",
       "      <th>Population</th>\n",
       "    </tr>\n",
       "    <tr>\n",
       "      <th>Serial Number</th>\n",
       "      <th></th>\n",
       "      <th></th>\n",
       "      <th></th>\n",
       "    </tr>\n",
       "  </thead>\n",
       "  <tbody>\n",
       "    <tr>\n",
       "      <th>2</th>\n",
       "      <td>530740.0</td>\n",
       "      <td>India</td>\n",
       "      <td>1.406632e+09</td>\n",
       "    </tr>\n",
       "    <tr>\n",
       "      <th>1</th>\n",
       "      <td>1132935.0</td>\n",
       "      <td>USA</td>\n",
       "      <td>3.348053e+08</td>\n",
       "    </tr>\n",
       "    <tr>\n",
       "      <th>20</th>\n",
       "      <td>160817.0</td>\n",
       "      <td>Indonesia</td>\n",
       "      <td>2.791345e+08</td>\n",
       "    </tr>\n",
       "    <tr>\n",
       "      <th>53</th>\n",
       "      <td>30640.0</td>\n",
       "      <td>Pakistan</td>\n",
       "      <td>2.294890e+08</td>\n",
       "    </tr>\n",
       "    <tr>\n",
       "      <th>108</th>\n",
       "      <td>3155.0</td>\n",
       "      <td>Nigeria</td>\n",
       "      <td>2.167469e+08</td>\n",
       "    </tr>\n",
       "    <tr>\n",
       "      <th>5</th>\n",
       "      <td>697074.0</td>\n",
       "      <td>Brazil</td>\n",
       "      <td>2.153536e+08</td>\n",
       "    </tr>\n",
       "    <tr>\n",
       "      <th>48</th>\n",
       "      <td>29442.0</td>\n",
       "      <td>Bangladesh</td>\n",
       "      <td>1.678857e+08</td>\n",
       "    </tr>\n",
       "    <tr>\n",
       "      <th>10</th>\n",
       "      <td>395108.0</td>\n",
       "      <td>Russia</td>\n",
       "      <td>1.458059e+08</td>\n",
       "    </tr>\n",
       "    <tr>\n",
       "      <th>19</th>\n",
       "      <td>332198.0</td>\n",
       "      <td>Mexico</td>\n",
       "      <td>1.315628e+08</td>\n",
       "    </tr>\n",
       "    <tr>\n",
       "      <th>6</th>\n",
       "      <td>68399.0</td>\n",
       "      <td>Japan</td>\n",
       "      <td>1.255848e+08</td>\n",
       "    </tr>\n",
       "  </tbody>\n",
       "</table>\n",
       "</div>"
      ],
      "text/plain": [
       "               Total_Deaths     Country    Population\n",
       "Serial Number                                        \n",
       "2                  530740.0       India  1.406632e+09\n",
       "1                 1132935.0         USA  3.348053e+08\n",
       "20                 160817.0   Indonesia  2.791345e+08\n",
       "53                  30640.0    Pakistan  2.294890e+08\n",
       "108                  3155.0     Nigeria  2.167469e+08\n",
       "5                  697074.0      Brazil  2.153536e+08\n",
       "48                  29442.0  Bangladesh  1.678857e+08\n",
       "10                 395108.0      Russia  1.458059e+08\n",
       "19                 332198.0      Mexico  1.315628e+08\n",
       "6                   68399.0       Japan  1.255848e+08"
      ]
     },
     "execution_count": 62,
     "metadata": {},
     "output_type": "execute_result"
    }
   ],
   "source": [
    "popDeath = df[['Total_Deaths', 'Country', 'Population']].sort_values(by='Population', ascending = False)\n",
    "popDeath = popDeath.head(10)\n",
    "popDeath.head(10)\n"
   ]
  },
  {
   "cell_type": "code",
   "execution_count": 70,
   "metadata": {},
   "outputs": [
    {
     "name": "stdout",
     "output_type": "stream",
     "text": [
      "<class 'pandas.core.frame.DataFrame'>\n",
      "Int64Index: 231 entries, 1 to 231\n",
      "Data columns (total 7 columns):\n",
      " #   Column           Non-Null Count  Dtype  \n",
      "---  ------           --------------  -----  \n",
      " 0   Country          231 non-null    object \n",
      " 1   Total_Cases      231 non-null    float64\n",
      " 2   Total_Deaths     231 non-null    float64\n",
      " 3   Total_Recovered  231 non-null    float64\n",
      " 4   Active_Cases     231 non-null    float64\n",
      " 5   Total_Test       231 non-null    float64\n",
      " 6   Population       231 non-null    float64\n",
      "dtypes: float64(6), object(1)\n",
      "memory usage: 14.4+ KB\n"
     ]
    }
   ],
   "source": [
    "df.info()"
   ]
  },
  {
   "cell_type": "code",
   "execution_count": 83,
   "metadata": {},
   "outputs": [
    {
     "data": {
      "text/plain": [
       "<function matplotlib.pyplot.show(close=None, block=None)>"
      ]
     },
     "execution_count": 83,
     "metadata": {},
     "output_type": "execute_result"
    },
    {
     "data": {
      "image/png": "[encoded data removed]",
      "text/plain": [
       "<Figure size 1008x720 with 1 Axes>"
      ]
     },
     "metadata": {
      "needs_background": "light"
     },
     "output_type": "display_data"
    }
   ],
   "source": [
    "plt.figure(figsize =(14,10))\n",
    "\n",
    "sns.scatterplot(data = popDeath, x='Total_Deaths', y = 'Population', hue = 'Country')\n",
    "\n",
    "#Add axis labels and title \n",
    "plt.xlabel('Total Deaths')\n",
    "plt.ylabel(\"Population\")\n",
    "plt.title('Comparison between Deaths and Population Sizes (also shows percentages)')\n",
    "plt.legend(bbox_to_anchor = (1.05,1), loc = 'upper left')\n",
    "#Calculate and display the percentage of edeaths per population for each country\n",
    "\n",
    "for index, row in popDeath.iterrows():\n",
    "    deaths = row['Total_Deaths']\n",
    "    population = row[\"Population\"]\n",
    "    percentdeaths = round(deaths / population *100 , 4)\n",
    "    plt.text(deaths +500, population +500, f'{row[\"Country\"]}:{percentdeaths}%', fontsize = 10)\n",
    "plt.show"
   ]
  },
  {
   "cell_type": "code",
   "execution_count": null,
   "metadata": {},
   "outputs": [],
   "source": []
  }
 ],
 "metadata": {
  "kernelspec": {
   "display_name": "Python 3",
   "language": "python",
   "name": "python3"
  },
  "language_info": {
   "codemirror_mode": {
    "name": "ipython",
    "version": 3
   },
   "file_extension": ".py",
   "mimetype": "text/x-python",
   "name": "python",
   "nbconvert_exporter": "python",
   "pygments_lexer": "ipython3",
   "version": "3.8.5"
  }
 },
 "nbformat": 4,
 "nbformat_minor": 4
}
