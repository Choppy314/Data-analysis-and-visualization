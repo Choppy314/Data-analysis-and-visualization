{
 "cells": [
  {
   "cell_type": "code",
   "execution_count": 24,
   "metadata": {
    "execution": {
     "iopub.execute_input": "2023-02-22T19:20:40.878724Z",
     "iopub.status.busy": "2023-02-22T19:20:40.877853Z",
     "iopub.status.idle": "2023-02-22T19:20:41.986067Z",
     "shell.execute_reply": "2023-02-22T19:20:41.984603Z",
     "shell.execute_reply.started": "2023-02-22T19:20:40.878686Z"
    }
   },
   "outputs": [],
   "source": [
    "import pandas as pd   \n",
    "import numpy as np\n",
    "import matplotlib.pyplot as plt\n",
    "import seaborn as sns\n",
    "import regex as re"
   ]
  },
  {
   "cell_type": "code",
   "execution_count": 25,
   "metadata": {
    "execution": {
     "iopub.execute_input": "2023-02-22T19:20:41.987866Z",
     "iopub.status.busy": "2023-02-22T19:20:41.987543Z",
     "iopub.status.idle": "2023-02-22T19:20:42.045442Z",
     "shell.execute_reply": "2023-02-22T19:20:42.044553Z",
     "shell.execute_reply.started": "2023-02-22T19:20:41.987836Z"
    }
   },
   "outputs": [],
   "source": [
    "df=pd.read_csv('covid_worldwide.csv', index_col=0)\n"
   ]
  },
  {
   "cell_type": "code",
   "execution_count": 26,
   "metadata": {
    "execution": {
     "iopub.execute_input": "2023-02-22T19:20:42.04863Z",
     "iopub.status.busy": "2023-02-22T19:20:42.048205Z",
     "iopub.status.idle": "2023-02-22T19:20:42.069682Z",
     "shell.execute_reply": "2023-02-22T19:20:42.068545Z",
     "shell.execute_reply.started": "2023-02-22T19:20:42.04859Z"
    }
   },
   "outputs": [
    {
     "name": "stdout",
     "output_type": "stream",
     "text": [
      "<class 'pandas.core.frame.DataFrame'>\n",
      "Int64Index: 231 entries, 1 to 231\n",
      "Data columns (total 7 columns):\n",
      " #   Column           Non-Null Count  Dtype \n",
      "---  ------           --------------  ----- \n",
      " 0   Country          231 non-null    object\n",
      " 1   Total Cases      231 non-null    object\n",
      " 2   Total Deaths     225 non-null    object\n",
      " 3   Total Recovered  210 non-null    object\n",
      " 4   Active Cases     212 non-null    object\n",
      " 5   Total Test       213 non-null    object\n",
      " 6   Population       228 non-null    object\n",
      "dtypes: object(7)\n",
      "memory usage: 14.4+ KB\n"
     ]
    }
   ],
   "source": [
    "df.info()"
   ]
  },
  {
   "cell_type": "code",
   "execution_count": 27,
   "metadata": {
    "execution": {
     "iopub.execute_input": "2023-02-22T19:20:42.071381Z",
     "iopub.status.busy": "2023-02-22T19:20:42.070765Z",
     "iopub.status.idle": "2023-02-22T19:20:42.092968Z",
     "shell.execute_reply": "2023-02-22T19:20:42.091872Z",
     "shell.execute_reply.started": "2023-02-22T19:20:42.071345Z"
    }
   },
   "outputs": [
    {
     "data": {
      "text/html": [
       "<div>\n",
       "<style scoped>\n",
       "    .dataframe tbody tr th:only-of-type {\n",
       "        vertical-align: middle;\n",
       "    }\n",
       "\n",
       "    .dataframe tbody tr th {\n",
       "        vertical-align: top;\n",
       "    }\n",
       "\n",
       "    .dataframe thead th {\n",
       "        text-align: right;\n",
       "    }\n",
       "</style>\n",
       "<table border=\"1\" class=\"dataframe\">\n",
       "  <thead>\n",
       "    <tr style=\"text-align: right;\">\n",
       "      <th></th>\n",
       "      <th>Country</th>\n",
       "      <th>Total Cases</th>\n",
       "      <th>Total Deaths</th>\n",
       "      <th>Total Recovered</th>\n",
       "      <th>Active Cases</th>\n",
       "      <th>Total Test</th>\n",
       "      <th>Population</th>\n",
       "    </tr>\n",
       "    <tr>\n",
       "      <th>Serial Number</th>\n",
       "      <th></th>\n",
       "      <th></th>\n",
       "      <th></th>\n",
       "      <th></th>\n",
       "      <th></th>\n",
       "      <th></th>\n",
       "      <th></th>\n",
       "    </tr>\n",
       "  </thead>\n",
       "  <tbody>\n",
       "    <tr>\n",
       "      <th>1</th>\n",
       "      <td>USA</td>\n",
       "      <td>104,196,861</td>\n",
       "      <td>1,132,935</td>\n",
       "      <td>101,322,779</td>\n",
       "      <td>1,741,147</td>\n",
       "      <td>1,159,832,679</td>\n",
       "      <td>334,805,269</td>\n",
       "    </tr>\n",
       "    <tr>\n",
       "      <th>2</th>\n",
       "      <td>India</td>\n",
       "      <td>44,682,784</td>\n",
       "      <td>530,740</td>\n",
       "      <td>44,150,289</td>\n",
       "      <td>1,755</td>\n",
       "      <td>915,265,788</td>\n",
       "      <td>1,406,631,776</td>\n",
       "    </tr>\n",
       "    <tr>\n",
       "      <th>3</th>\n",
       "      <td>France</td>\n",
       "      <td>39,524,311</td>\n",
       "      <td>164,233</td>\n",
       "      <td>39,264,546</td>\n",
       "      <td>95,532</td>\n",
       "      <td>271,490,188</td>\n",
       "      <td>65,584,518</td>\n",
       "    </tr>\n",
       "    <tr>\n",
       "      <th>4</th>\n",
       "      <td>Germany</td>\n",
       "      <td>37,779,833</td>\n",
       "      <td>165,711</td>\n",
       "      <td>37,398,100</td>\n",
       "      <td>216,022</td>\n",
       "      <td>122,332,384</td>\n",
       "      <td>83,883,596</td>\n",
       "    </tr>\n",
       "    <tr>\n",
       "      <th>5</th>\n",
       "      <td>Brazil</td>\n",
       "      <td>36,824,580</td>\n",
       "      <td>697,074</td>\n",
       "      <td>35,919,372</td>\n",
       "      <td>208,134</td>\n",
       "      <td>63,776,166</td>\n",
       "      <td>215,353,593</td>\n",
       "    </tr>\n",
       "    <tr>\n",
       "      <th>6</th>\n",
       "      <td>Japan</td>\n",
       "      <td>32,588,442</td>\n",
       "      <td>68,399</td>\n",
       "      <td>21,567,425</td>\n",
       "      <td>10,952,618</td>\n",
       "      <td>92,144,639</td>\n",
       "      <td>125,584,838</td>\n",
       "    </tr>\n",
       "    <tr>\n",
       "      <th>7</th>\n",
       "      <td>S. Korea</td>\n",
       "      <td>30,197,066</td>\n",
       "      <td>33,486</td>\n",
       "      <td>29,740,877</td>\n",
       "      <td>422,703</td>\n",
       "      <td>15,804,065</td>\n",
       "      <td>51,329,899</td>\n",
       "    </tr>\n",
       "    <tr>\n",
       "      <th>8</th>\n",
       "      <td>Italy</td>\n",
       "      <td>25,453,789</td>\n",
       "      <td>186,833</td>\n",
       "      <td>25,014,986</td>\n",
       "      <td>251,970</td>\n",
       "      <td>265,478,247</td>\n",
       "      <td>60,262,770</td>\n",
       "    </tr>\n",
       "    <tr>\n",
       "      <th>9</th>\n",
       "      <td>UK</td>\n",
       "      <td>24,274,361</td>\n",
       "      <td>204,171</td>\n",
       "      <td>24,020,088</td>\n",
       "      <td>50,102</td>\n",
       "      <td>522,526,476</td>\n",
       "      <td>68,497,907</td>\n",
       "    </tr>\n",
       "    <tr>\n",
       "      <th>10</th>\n",
       "      <td>Russia</td>\n",
       "      <td>21,958,696</td>\n",
       "      <td>395,108</td>\n",
       "      <td>21,356,008</td>\n",
       "      <td>207,580</td>\n",
       "      <td>273,400,000</td>\n",
       "      <td>145,805,947</td>\n",
       "    </tr>\n",
       "  </tbody>\n",
       "</table>\n",
       "</div>"
      ],
      "text/plain": [
       "                Country  Total Cases Total Deaths Total Recovered  \\\n",
       "Serial Number                                                       \n",
       "1                   USA  104,196,861    1,132,935     101,322,779   \n",
       "2                 India   44,682,784      530,740      44,150,289   \n",
       "3                France   39,524,311      164,233      39,264,546   \n",
       "4               Germany   37,779,833      165,711      37,398,100   \n",
       "5                Brazil   36,824,580      697,074      35,919,372   \n",
       "6                 Japan   32,588,442       68,399      21,567,425   \n",
       "7              S. Korea   30,197,066       33,486      29,740,877   \n",
       "8                 Italy   25,453,789      186,833      25,014,986   \n",
       "9                    UK   24,274,361      204,171      24,020,088   \n",
       "10               Russia   21,958,696      395,108      21,356,008   \n",
       "\n",
       "              Active Cases     Total Test     Population  \n",
       "Serial Number                                             \n",
       "1                1,741,147  1,159,832,679    334,805,269  \n",
       "2                    1,755    915,265,788  1,406,631,776  \n",
       "3                   95,532    271,490,188     65,584,518  \n",
       "4                  216,022    122,332,384     83,883,596  \n",
       "5                  208,134     63,776,166    215,353,593  \n",
       "6               10,952,618     92,144,639    125,584,838  \n",
       "7                  422,703     15,804,065     51,329,899  \n",
       "8                  251,970    265,478,247     60,262,770  \n",
       "9                   50,102    522,526,476     68,497,907  \n",
       "10                 207,580    273,400,000    145,805,947  "
      ]
     },
     "execution_count": 27,
     "metadata": {},
     "output_type": "execute_result"
    }
   ],
   "source": [
    "df.head(10)"
   ]
  },
  {
   "cell_type": "code",
   "execution_count": 28,
   "metadata": {
    "execution": {
     "iopub.execute_input": "2023-02-22T19:20:42.094949Z",
     "iopub.status.busy": "2023-02-22T19:20:42.094149Z",
     "iopub.status.idle": "2023-02-22T19:20:42.115938Z",
     "shell.execute_reply": "2023-02-22T19:20:42.115043Z",
     "shell.execute_reply.started": "2023-02-22T19:20:42.094914Z"
    }
   },
   "outputs": [
    {
     "data": {
      "text/html": [
       "<div>\n",
       "<style scoped>\n",
       "    .dataframe tbody tr th:only-of-type {\n",
       "        vertical-align: middle;\n",
       "    }\n",
       "\n",
       "    .dataframe tbody tr th {\n",
       "        vertical-align: top;\n",
       "    }\n",
       "\n",
       "    .dataframe thead th {\n",
       "        text-align: right;\n",
       "    }\n",
       "</style>\n",
       "<table border=\"1\" class=\"dataframe\">\n",
       "  <thead>\n",
       "    <tr style=\"text-align: right;\">\n",
       "      <th></th>\n",
       "      <th>Country</th>\n",
       "      <th>Total Cases</th>\n",
       "      <th>Total Deaths</th>\n",
       "      <th>Total Recovered</th>\n",
       "      <th>Active Cases</th>\n",
       "      <th>Total Test</th>\n",
       "      <th>Population</th>\n",
       "    </tr>\n",
       "  </thead>\n",
       "  <tbody>\n",
       "    <tr>\n",
       "      <th>count</th>\n",
       "      <td>231</td>\n",
       "      <td>231</td>\n",
       "      <td>225</td>\n",
       "      <td>210</td>\n",
       "      <td>212</td>\n",
       "      <td>213</td>\n",
       "      <td>228</td>\n",
       "    </tr>\n",
       "    <tr>\n",
       "      <th>unique</th>\n",
       "      <td>231</td>\n",
       "      <td>231</td>\n",
       "      <td>213</td>\n",
       "      <td>210</td>\n",
       "      <td>181</td>\n",
       "      <td>212</td>\n",
       "      <td>228</td>\n",
       "    </tr>\n",
       "    <tr>\n",
       "      <th>top</th>\n",
       "      <td>Isle of Man</td>\n",
       "      <td>25,453,789</td>\n",
       "      <td>38</td>\n",
       "      <td>325,934</td>\n",
       "      <td>0</td>\n",
       "      <td>78,646</td>\n",
       "      <td>63,298,550</td>\n",
       "    </tr>\n",
       "    <tr>\n",
       "      <th>freq</th>\n",
       "      <td>1</td>\n",
       "      <td>1</td>\n",
       "      <td>3</td>\n",
       "      <td>1</td>\n",
       "      <td>8</td>\n",
       "      <td>2</td>\n",
       "      <td>1</td>\n",
       "    </tr>\n",
       "  </tbody>\n",
       "</table>\n",
       "</div>"
      ],
      "text/plain": [
       "            Country Total Cases Total Deaths Total Recovered Active Cases  \\\n",
       "count           231         231          225             210          212   \n",
       "unique          231         231          213             210          181   \n",
       "top     Isle of Man  25,453,789           38         325,934            0   \n",
       "freq              1           1            3               1            8   \n",
       "\n",
       "       Total Test  Population  \n",
       "count         213         228  \n",
       "unique        212         228  \n",
       "top        78,646  63,298,550  \n",
       "freq            2           1  "
      ]
     },
     "execution_count": 28,
     "metadata": {},
     "output_type": "execute_result"
    }
   ],
   "source": [
    "df.describe()"
   ]
  },
  {
   "cell_type": "code",
   "execution_count": 29,
   "metadata": {
    "execution": {
     "iopub.execute_input": "2023-02-22T19:20:42.118542Z",
     "iopub.status.busy": "2023-02-22T19:20:42.117956Z",
     "iopub.status.idle": "2023-02-22T19:20:42.123154Z",
     "shell.execute_reply": "2023-02-22T19:20:42.122507Z",
     "shell.execute_reply.started": "2023-02-22T19:20:42.11851Z"
    }
   },
   "outputs": [],
   "source": [
    "df.columns = df.columns.str.replace(' ', '_')"
   ]
  },
  {
   "cell_type": "markdown",
   "metadata": {},
   "source": [
    "# Converting the strings into floats\n"
   ]
  },
  {
   "cell_type": "code",
   "execution_count": 30,
   "metadata": {
    "execution": {
     "iopub.execute_input": "2023-02-22T19:20:42.124785Z",
     "iopub.status.busy": "2023-02-22T19:20:42.124292Z",
     "iopub.status.idle": "2023-02-22T19:20:42.138789Z",
     "shell.execute_reply": "2023-02-22T19:20:42.137436Z",
     "shell.execute_reply.started": "2023-02-22T19:20:42.124754Z"
    }
   },
   "outputs": [],
   "source": [
    "df['Total_Deaths'] = df['Total_Deaths'].astype(str).str.replace(',', '').astype(float)"
   ]
  },
  {
   "cell_type": "code",
   "execution_count": 31,
   "metadata": {
    "execution": {
     "iopub.execute_input": "2023-02-22T19:20:42.140467Z",
     "iopub.status.busy": "2023-02-22T19:20:42.140088Z",
     "iopub.status.idle": "2023-02-22T19:20:42.150797Z",
     "shell.execute_reply": "2023-02-22T19:20:42.1498Z",
     "shell.execute_reply.started": "2023-02-22T19:20:42.140433Z"
    }
   },
   "outputs": [],
   "source": [
    "df['Total_Cases'] = df['Total_Cases'].astype(str).str.replace(',', '').astype(float)"
   ]
  },
  {
   "cell_type": "code",
   "execution_count": 32,
   "metadata": {
    "execution": {
     "iopub.execute_input": "2023-02-22T19:20:42.155091Z",
     "iopub.status.busy": "2023-02-22T19:20:42.154493Z",
     "iopub.status.idle": "2023-02-22T19:20:42.166446Z",
     "shell.execute_reply": "2023-02-22T19:20:42.165477Z",
     "shell.execute_reply.started": "2023-02-22T19:20:42.155058Z"
    }
   },
   "outputs": [],
   "source": [
    "df['Total_Recovered'] = df['Total_Recovered'].astype(str).str.replace(',', '').astype(float)"
   ]
  },
  {
   "cell_type": "code",
   "execution_count": 33,
   "metadata": {
    "execution": {
     "iopub.execute_input": "2023-02-22T19:20:42.168414Z",
     "iopub.status.busy": "2023-02-22T19:20:42.167752Z",
     "iopub.status.idle": "2023-02-22T19:20:42.178141Z",
     "shell.execute_reply": "2023-02-22T19:20:42.176916Z",
     "shell.execute_reply.started": "2023-02-22T19:20:42.168381Z"
    }
   },
   "outputs": [],
   "source": [
    "df['Active_Cases'] = df['Active_Cases'].astype(str).str.replace(',', '').astype(float)"
   ]
  },
  {
   "cell_type": "code",
   "execution_count": 34,
   "metadata": {
    "execution": {
     "iopub.execute_input": "2023-02-22T19:20:42.180205Z",
     "iopub.status.busy": "2023-02-22T19:20:42.179607Z",
     "iopub.status.idle": "2023-02-22T19:20:42.190072Z",
     "shell.execute_reply": "2023-02-22T19:20:42.189132Z",
     "shell.execute_reply.started": "2023-02-22T19:20:42.180161Z"
    }
   },
   "outputs": [],
   "source": [
    "df['Total_Test'] = df['Total_Test'].astype(str).str.replace(',', '').astype(float)"
   ]
  },
  {
   "cell_type": "code",
   "execution_count": 35,
   "metadata": {
    "execution": {
     "iopub.execute_input": "2023-02-22T19:20:42.192506Z",
     "iopub.status.busy": "2023-02-22T19:20:42.191805Z",
     "iopub.status.idle": "2023-02-22T19:20:42.202571Z",
     "shell.execute_reply": "2023-02-22T19:20:42.201209Z",
     "shell.execute_reply.started": "2023-02-22T19:20:42.192474Z"
    }
   },
   "outputs": [],
   "source": [
    "df['Population'] = df['Population'].astype(str).str.replace(',', '').astype(float)"
   ]
  },
  {
   "cell_type": "markdown",
   "metadata": {},
   "source": [
    "# Organising the data into top 10 countries with the most deaths\n"
   ]
  },
  {
   "cell_type": "code",
   "execution_count": 36,
   "metadata": {
    "execution": {
     "iopub.execute_input": "2023-02-22T19:20:42.205727Z",
     "iopub.status.busy": "2023-02-22T19:20:42.204678Z",
     "iopub.status.idle": "2023-02-22T19:20:42.227801Z",
     "shell.execute_reply": "2023-02-22T19:20:42.226838Z",
     "shell.execute_reply.started": "2023-02-22T19:20:42.205695Z"
    }
   },
   "outputs": [
    {
     "data": {
      "text/html": [
       "<div>\n",
       "<style scoped>\n",
       "    .dataframe tbody tr th:only-of-type {\n",
       "        vertical-align: middle;\n",
       "    }\n",
       "\n",
       "    .dataframe tbody tr th {\n",
       "        vertical-align: top;\n",
       "    }\n",
       "\n",
       "    .dataframe thead th {\n",
       "        text-align: right;\n",
       "    }\n",
       "</style>\n",
       "<table border=\"1\" class=\"dataframe\">\n",
       "  <thead>\n",
       "    <tr style=\"text-align: right;\">\n",
       "      <th></th>\n",
       "      <th>Total_Deaths</th>\n",
       "      <th>Country</th>\n",
       "    </tr>\n",
       "    <tr>\n",
       "      <th>Serial Number</th>\n",
       "      <th></th>\n",
       "      <th></th>\n",
       "    </tr>\n",
       "  </thead>\n",
       "  <tbody>\n",
       "    <tr>\n",
       "      <th>1</th>\n",
       "      <td>1132935.0</td>\n",
       "      <td>USA</td>\n",
       "    </tr>\n",
       "    <tr>\n",
       "      <th>5</th>\n",
       "      <td>697074.0</td>\n",
       "      <td>Brazil</td>\n",
       "    </tr>\n",
       "    <tr>\n",
       "      <th>2</th>\n",
       "      <td>530740.0</td>\n",
       "      <td>India</td>\n",
       "    </tr>\n",
       "    <tr>\n",
       "      <th>10</th>\n",
       "      <td>395108.0</td>\n",
       "      <td>Russia</td>\n",
       "    </tr>\n",
       "    <tr>\n",
       "      <th>19</th>\n",
       "      <td>332198.0</td>\n",
       "      <td>Mexico</td>\n",
       "    </tr>\n",
       "    <tr>\n",
       "      <th>35</th>\n",
       "      <td>218931.0</td>\n",
       "      <td>Peru</td>\n",
       "    </tr>\n",
       "    <tr>\n",
       "      <th>9</th>\n",
       "      <td>204171.0</td>\n",
       "      <td>UK</td>\n",
       "    </tr>\n",
       "    <tr>\n",
       "      <th>8</th>\n",
       "      <td>186833.0</td>\n",
       "      <td>Italy</td>\n",
       "    </tr>\n",
       "    <tr>\n",
       "      <th>4</th>\n",
       "      <td>165711.0</td>\n",
       "      <td>Germany</td>\n",
       "    </tr>\n",
       "    <tr>\n",
       "      <th>3</th>\n",
       "      <td>164233.0</td>\n",
       "      <td>France</td>\n",
       "    </tr>\n",
       "  </tbody>\n",
       "</table>\n",
       "</div>"
      ],
      "text/plain": [
       "               Total_Deaths  Country\n",
       "Serial Number                       \n",
       "1                 1132935.0      USA\n",
       "5                  697074.0   Brazil\n",
       "2                  530740.0    India\n",
       "10                 395108.0   Russia\n",
       "19                 332198.0   Mexico\n",
       "35                 218931.0     Peru\n",
       "9                  204171.0       UK\n",
       "8                  186833.0    Italy\n",
       "4                  165711.0  Germany\n",
       "3                  164233.0   France"
      ]
     },
     "execution_count": 36,
     "metadata": {},
     "output_type": "execute_result"
    }
   ],
   "source": [
    "Topdeaths = df[['Total_Deaths', 'Country']].sort_values(by=\"Total_Deaths\",ascending=False)\n",
    "Topdeaths = Topdeaths.head(10)\n",
    "Topdeaths.head(10)"
   ]
  },
  {
   "cell_type": "markdown",
   "metadata": {},
   "source": [
    "# Bar Graph to show the countries with the top 10 amount of deaths"
   ]
  },
  {
   "cell_type": "code",
   "execution_count": 37,
   "metadata": {
    "execution": {
     "iopub.execute_input": "2023-02-22T19:20:42.23007Z",
     "iopub.status.busy": "2023-02-22T19:20:42.22915Z",
     "iopub.status.idle": "2023-02-22T19:20:42.489081Z",
     "shell.execute_reply": "2023-02-22T19:20:42.487942Z",
     "shell.execute_reply.started": "2023-02-22T19:20:42.23003Z"
    }
   },
   "outputs": [
    {
     "data": {
      "image/png": "[encoded data removed]",
      "text/plain": [
       "<Figure size 576x576 with 1 Axes>"
      ]
     },
     "metadata": {
      "needs_background": "light"
     },
     "output_type": "display_data"
    }
   ],
   "source": [
    "plt.figure(figsize=(8,8))\n",
    "graph=sns.barplot(y='Total_Deaths',x='Country', color=\"black\",data=Topdeaths)\n",
    "graph.set_title('Top 10 Countries By Total Deaths.')\n",
    "plt.xticks(rotation=85)\n",
    "plt.show()"
   ]
  },
  {
   "cell_type": "markdown",
   "metadata": {},
   "source": [
    "USA, Brazil and India had the most deaths"
   ]
  },
  {
   "cell_type": "markdown",
   "metadata": {},
   "source": [
    "# Organising the data to show top 10 countries with the most amount of recovered "
   ]
  },
  {
   "cell_type": "code",
   "execution_count": 38,
   "metadata": {
    "execution": {
     "iopub.execute_input": "2023-02-22T19:20:42.492262Z",
     "iopub.status.busy": "2023-02-22T19:20:42.491084Z",
     "iopub.status.idle": "2023-02-22T19:20:42.506251Z",
     "shell.execute_reply": "2023-02-22T19:20:42.505276Z",
     "shell.execute_reply.started": "2023-02-22T19:20:42.492206Z"
    }
   },
   "outputs": [
    {
     "data": {
      "text/html": [
       "<div>\n",
       "<style scoped>\n",
       "    .dataframe tbody tr th:only-of-type {\n",
       "        vertical-align: middle;\n",
       "    }\n",
       "\n",
       "    .dataframe tbody tr th {\n",
       "        vertical-align: top;\n",
       "    }\n",
       "\n",
       "    .dataframe thead th {\n",
       "        text-align: right;\n",
       "    }\n",
       "</style>\n",
       "<table border=\"1\" class=\"dataframe\">\n",
       "  <thead>\n",
       "    <tr style=\"text-align: right;\">\n",
       "      <th></th>\n",
       "      <th>Total_Recovered</th>\n",
       "      <th>Country</th>\n",
       "    </tr>\n",
       "    <tr>\n",
       "      <th>Serial Number</th>\n",
       "      <th></th>\n",
       "      <th></th>\n",
       "    </tr>\n",
       "  </thead>\n",
       "  <tbody>\n",
       "    <tr>\n",
       "      <th>1</th>\n",
       "      <td>101322779.0</td>\n",
       "      <td>USA</td>\n",
       "    </tr>\n",
       "    <tr>\n",
       "      <th>2</th>\n",
       "      <td>44150289.0</td>\n",
       "      <td>India</td>\n",
       "    </tr>\n",
       "    <tr>\n",
       "      <th>3</th>\n",
       "      <td>39264546.0</td>\n",
       "      <td>France</td>\n",
       "    </tr>\n",
       "    <tr>\n",
       "      <th>4</th>\n",
       "      <td>37398100.0</td>\n",
       "      <td>Germany</td>\n",
       "    </tr>\n",
       "    <tr>\n",
       "      <th>5</th>\n",
       "      <td>35919372.0</td>\n",
       "      <td>Brazil</td>\n",
       "    </tr>\n",
       "    <tr>\n",
       "      <th>7</th>\n",
       "      <td>29740877.0</td>\n",
       "      <td>S. Korea</td>\n",
       "    </tr>\n",
       "    <tr>\n",
       "      <th>8</th>\n",
       "      <td>25014986.0</td>\n",
       "      <td>Italy</td>\n",
       "    </tr>\n",
       "    <tr>\n",
       "      <th>9</th>\n",
       "      <td>24020088.0</td>\n",
       "      <td>UK</td>\n",
       "    </tr>\n",
       "    <tr>\n",
       "      <th>6</th>\n",
       "      <td>21567425.0</td>\n",
       "      <td>Japan</td>\n",
       "    </tr>\n",
       "    <tr>\n",
       "      <th>10</th>\n",
       "      <td>21356008.0</td>\n",
       "      <td>Russia</td>\n",
       "    </tr>\n",
       "  </tbody>\n",
       "</table>\n",
       "</div>"
      ],
      "text/plain": [
       "               Total_Recovered   Country\n",
       "Serial Number                           \n",
       "1                  101322779.0       USA\n",
       "2                   44150289.0     India\n",
       "3                   39264546.0    France\n",
       "4                   37398100.0   Germany\n",
       "5                   35919372.0    Brazil\n",
       "7                   29740877.0  S. Korea\n",
       "8                   25014986.0     Italy\n",
       "9                   24020088.0        UK\n",
       "6                   21567425.0     Japan\n",
       "10                  21356008.0    Russia"
      ]
     },
     "execution_count": 38,
     "metadata": {},
     "output_type": "execute_result"
    }
   ],
   "source": [
    "Toprecover = df[['Total_Recovered', 'Country']].sort_values(by=\"Total_Recovered\",ascending=False)\n",
    "Toprecover = Toprecover.head(10)\n",
    "Toprecover.head(10)"
   ]
  },
  {
   "cell_type": "code",
   "execution_count": 39,
   "metadata": {
    "execution": {
     "iopub.execute_input": "2023-02-22T19:20:42.507896Z",
     "iopub.status.busy": "2023-02-22T19:20:42.507516Z",
     "iopub.status.idle": "2023-02-22T19:20:42.722697Z",
     "shell.execute_reply": "2023-02-22T19:20:42.721929Z",
     "shell.execute_reply.started": "2023-02-22T19:20:42.50786Z"
    }
   },
   "outputs": [
    {
     "data": {
      "image/png": "[encoded data removed]",
      "text/plain": [
       "<Figure size 576x576 with 1 Axes>"
      ]
     },
     "metadata": {
      "needs_background": "light"
     },
     "output_type": "display_data"
    }
   ],
   "source": [
    "plt.figure(figsize=(8,8))\n",
    "graph=sns.barplot(y='Total_Recovered',x='Country', color=\"green\",data=Toprecover)\n",
    "graph.set_title('Top 10 Countries By Total Recovered.')\n",
    "plt.xticks(rotation=85)\n",
    "plt.show()"
   ]
  },
  {
   "cell_type": "markdown",
   "metadata": {},
   "source": [
    "USA, India and France had the most recovered cases\n"
   ]
  },
  {
   "cell_type": "markdown",
   "metadata": {},
   "source": [
    "# Compare the Deaths versus Recoveries for Top 10 countries with most deaths"
   ]
  },
  {
   "cell_type": "code",
   "execution_count": 40,
   "metadata": {
    "execution": {
     "iopub.execute_input": "2023-02-22T19:20:42.72499Z",
     "iopub.status.busy": "2023-02-22T19:20:42.723793Z",
     "iopub.status.idle": "2023-02-22T19:20:42.740678Z",
     "shell.execute_reply": "2023-02-22T19:20:42.739519Z",
     "shell.execute_reply.started": "2023-02-22T19:20:42.72495Z"
    }
   },
   "outputs": [
    {
     "data": {
      "text/html": [
       "<div>\n",
       "<style scoped>\n",
       "    .dataframe tbody tr th:only-of-type {\n",
       "        vertical-align: middle;\n",
       "    }\n",
       "\n",
       "    .dataframe tbody tr th {\n",
       "        vertical-align: top;\n",
       "    }\n",
       "\n",
       "    .dataframe thead th {\n",
       "        text-align: right;\n",
       "    }\n",
       "</style>\n",
       "<table border=\"1\" class=\"dataframe\">\n",
       "  <thead>\n",
       "    <tr style=\"text-align: right;\">\n",
       "      <th></th>\n",
       "      <th>Total_Deaths</th>\n",
       "      <th>Country</th>\n",
       "      <th>Total_Recovered</th>\n",
       "    </tr>\n",
       "    <tr>\n",
       "      <th>Serial Number</th>\n",
       "      <th></th>\n",
       "      <th></th>\n",
       "      <th></th>\n",
       "    </tr>\n",
       "  </thead>\n",
       "  <tbody>\n",
       "    <tr>\n",
       "      <th>1</th>\n",
       "      <td>1132935.0</td>\n",
       "      <td>USA</td>\n",
       "      <td>101322779.0</td>\n",
       "    </tr>\n",
       "    <tr>\n",
       "      <th>5</th>\n",
       "      <td>697074.0</td>\n",
       "      <td>Brazil</td>\n",
       "      <td>35919372.0</td>\n",
       "    </tr>\n",
       "    <tr>\n",
       "      <th>2</th>\n",
       "      <td>530740.0</td>\n",
       "      <td>India</td>\n",
       "      <td>44150289.0</td>\n",
       "    </tr>\n",
       "    <tr>\n",
       "      <th>10</th>\n",
       "      <td>395108.0</td>\n",
       "      <td>Russia</td>\n",
       "      <td>21356008.0</td>\n",
       "    </tr>\n",
       "    <tr>\n",
       "      <th>19</th>\n",
       "      <td>332198.0</td>\n",
       "      <td>Mexico</td>\n",
       "      <td>6606633.0</td>\n",
       "    </tr>\n",
       "    <tr>\n",
       "      <th>35</th>\n",
       "      <td>218931.0</td>\n",
       "      <td>Peru</td>\n",
       "      <td>4258688.0</td>\n",
       "    </tr>\n",
       "    <tr>\n",
       "      <th>9</th>\n",
       "      <td>204171.0</td>\n",
       "      <td>UK</td>\n",
       "      <td>24020088.0</td>\n",
       "    </tr>\n",
       "    <tr>\n",
       "      <th>8</th>\n",
       "      <td>186833.0</td>\n",
       "      <td>Italy</td>\n",
       "      <td>25014986.0</td>\n",
       "    </tr>\n",
       "    <tr>\n",
       "      <th>4</th>\n",
       "      <td>165711.0</td>\n",
       "      <td>Germany</td>\n",
       "      <td>37398100.0</td>\n",
       "    </tr>\n",
       "    <tr>\n",
       "      <th>3</th>\n",
       "      <td>164233.0</td>\n",
       "      <td>France</td>\n",
       "      <td>39264546.0</td>\n",
       "    </tr>\n",
       "  </tbody>\n",
       "</table>\n",
       "</div>"
      ],
      "text/plain": [
       "               Total_Deaths  Country  Total_Recovered\n",
       "Serial Number                                        \n",
       "1                 1132935.0      USA      101322779.0\n",
       "5                  697074.0   Brazil       35919372.0\n",
       "2                  530740.0    India       44150289.0\n",
       "10                 395108.0   Russia       21356008.0\n",
       "19                 332198.0   Mexico        6606633.0\n",
       "35                 218931.0     Peru        4258688.0\n",
       "9                  204171.0       UK       24020088.0\n",
       "8                  186833.0    Italy       25014986.0\n",
       "4                  165711.0  Germany       37398100.0\n",
       "3                  164233.0   France       39264546.0"
      ]
     },
     "execution_count": 40,
     "metadata": {},
     "output_type": "execute_result"
    }
   ],
   "source": [
    "compare = df[['Total_Deaths', 'Country','Total_Recovered']].sort_values(by=\"Total_Deaths\",ascending=False)\n",
    "compare = compare.head(10)\n",
    "compare.head(10)"
   ]
  },
  {
   "cell_type": "code",
   "execution_count": 41,
   "metadata": {
    "execution": {
     "iopub.execute_input": "2023-02-22T19:23:56.05657Z",
     "iopub.status.busy": "2023-02-22T19:23:56.056203Z",
     "iopub.status.idle": "2023-02-22T19:23:56.463351Z",
     "shell.execute_reply": "2023-02-22T19:23:56.461948Z",
     "shell.execute_reply.started": "2023-02-22T19:23:56.056538Z"
    }
   },
   "outputs": [
    {
     "data": {
      "image/png": "[encoded data removed]",
      "text/plain": [
       "<Figure size 1008x720 with 1 Axes>"
      ]
     },
     "metadata": {
      "needs_background": "light"
     },
     "output_type": "display_data"
    }
   ],
   "source": [
    "plt.figure(figsize=(14, 10))\n",
    "\n",
    "sns.scatterplot(data=compare, x='Total_Deaths', y='Total_Recovered', hue='Country')\n",
    "\n",
    "# Add axis labels and title\n",
    "plt.xlabel('Total Deaths')\n",
    "plt.ylabel('Total Recovered')\n",
    "plt.title('Comparison between Deaths and Recoveries')\n",
    "\n",
    "plt.legend(bbox_to_anchor=(1.05, 1), loc='upper left')\n",
    "for index, row in compare.iterrows():\n",
    "    plt.text(row['Total_Deaths'] + 10000, row['Total_Recovered'] + 10000, row['Country'])\n",
    "plt.show()"
   ]
  },
  {
   "cell_type": "markdown",
   "metadata": {},
   "source": [
    "# Compare Deaths with largest Population sizes\n"
   ]
  },
  {
   "cell_type": "code",
   "execution_count": 42,
   "metadata": {
    "execution": {
     "iopub.execute_input": "2023-02-22T19:20:43.192152Z",
     "iopub.status.busy": "2023-02-22T19:20:43.191321Z",
     "iopub.status.idle": "2023-02-22T19:20:43.212062Z",
     "shell.execute_reply": "2023-02-22T19:20:43.20939Z",
     "shell.execute_reply.started": "2023-02-22T19:20:43.192064Z"
    }
   },
   "outputs": [
    {
     "data": {
      "text/html": [
       "<div>\n",
       "<style scoped>\n",
       "    .dataframe tbody tr th:only-of-type {\n",
       "        vertical-align: middle;\n",
       "    }\n",
       "\n",
       "    .dataframe tbody tr th {\n",
       "        vertical-align: top;\n",
       "    }\n",
       "\n",
       "    .dataframe thead th {\n",
       "        text-align: right;\n",
       "    }\n",
       "</style>\n",
       "<table border=\"1\" class=\"dataframe\">\n",
       "  <thead>\n",
       "    <tr style=\"text-align: right;\">\n",
       "      <th></th>\n",
       "      <th>Total_Deaths</th>\n",
       "      <th>Country</th>\n",
       "      <th>Population</th>\n",
       "    </tr>\n",
       "    <tr>\n",
       "      <th>Serial Number</th>\n",
       "      <th></th>\n",
       "      <th></th>\n",
       "      <th></th>\n",
       "    </tr>\n",
       "  </thead>\n",
       "  <tbody>\n",
       "    <tr>\n",
       "      <th>2</th>\n",
       "      <td>530740.0</td>\n",
       "      <td>India</td>\n",
       "      <td>1.406632e+09</td>\n",
       "    </tr>\n",
       "    <tr>\n",
       "      <th>1</th>\n",
       "      <td>1132935.0</td>\n",
       "      <td>USA</td>\n",
       "      <td>3.348053e+08</td>\n",
       "    </tr>\n",
       "    <tr>\n",
       "      <th>20</th>\n",
       "      <td>160817.0</td>\n",
       "      <td>Indonesia</td>\n",
       "      <td>2.791345e+08</td>\n",
       "    </tr>\n",
       "    <tr>\n",
       "      <th>53</th>\n",
       "      <td>30640.0</td>\n",
       "      <td>Pakistan</td>\n",
       "      <td>2.294890e+08</td>\n",
       "    </tr>\n",
       "    <tr>\n",
       "      <th>108</th>\n",
       "      <td>3155.0</td>\n",
       "      <td>Nigeria</td>\n",
       "      <td>2.167469e+08</td>\n",
       "    </tr>\n",
       "    <tr>\n",
       "      <th>5</th>\n",
       "      <td>697074.0</td>\n",
       "      <td>Brazil</td>\n",
       "      <td>2.153536e+08</td>\n",
       "    </tr>\n",
       "    <tr>\n",
       "      <th>48</th>\n",
       "      <td>29442.0</td>\n",
       "      <td>Bangladesh</td>\n",
       "      <td>1.678857e+08</td>\n",
       "    </tr>\n",
       "    <tr>\n",
       "      <th>10</th>\n",
       "      <td>395108.0</td>\n",
       "      <td>Russia</td>\n",
       "      <td>1.458059e+08</td>\n",
       "    </tr>\n",
       "    <tr>\n",
       "      <th>19</th>\n",
       "      <td>332198.0</td>\n",
       "      <td>Mexico</td>\n",
       "      <td>1.315628e+08</td>\n",
       "    </tr>\n",
       "    <tr>\n",
       "      <th>6</th>\n",
       "      <td>68399.0</td>\n",
       "      <td>Japan</td>\n",
       "      <td>1.255848e+08</td>\n",
       "    </tr>\n",
       "  </tbody>\n",
       "</table>\n",
       "</div>"
      ],
      "text/plain": [
       "               Total_Deaths     Country    Population\n",
       "Serial Number                                        \n",
       "2                  530740.0       India  1.406632e+09\n",
       "1                 1132935.0         USA  3.348053e+08\n",
       "20                 160817.0   Indonesia  2.791345e+08\n",
       "53                  30640.0    Pakistan  2.294890e+08\n",
       "108                  3155.0     Nigeria  2.167469e+08\n",
       "5                  697074.0      Brazil  2.153536e+08\n",
       "48                  29442.0  Bangladesh  1.678857e+08\n",
       "10                 395108.0      Russia  1.458059e+08\n",
       "19                 332198.0      Mexico  1.315628e+08\n",
       "6                   68399.0       Japan  1.255848e+08"
      ]
     },
     "execution_count": 42,
     "metadata": {},
     "output_type": "execute_result"
    }
   ],
   "source": [
    "popDeath = df[['Total_Deaths','Country','Population']].sort_values(by=\"Population\",ascending=False)\n",
    "popDeath = popDeath.head(10)\n",
    "popDeath.head(10)"
   ]
  },
  {
   "cell_type": "code",
   "execution_count": 43,
   "metadata": {
    "execution": {
     "iopub.execute_input": "2023-02-22T19:22:22.704901Z",
     "iopub.status.busy": "2023-02-22T19:22:22.704465Z",
     "iopub.status.idle": "2023-02-22T19:22:23.153537Z",
     "shell.execute_reply": "2023-02-22T19:22:23.152508Z",
     "shell.execute_reply.started": "2023-02-22T19:22:22.704872Z"
    }
   },
   "outputs": [
    {
     "data": {
      "image/png": "[encoded data removed]",
      "text/plain": [
       "<Figure size 1008x720 with 1 Axes>"
      ]
     },
     "metadata": {
      "needs_background": "light"
     },
     "output_type": "display_data"
    }
   ],
   "source": [
    "import matplotlib.pyplot as plt\n",
    "import seaborn as sns\n",
    "\n",
    "# Create the scatter plot\n",
    "plt.figure(figsize=(14, 10))\n",
    "sns.scatterplot(data=popDeath, x='Total_Deaths', y='Population', hue='Country')\n",
    "plt.xlabel('Total Deaths')\n",
    "plt.ylabel('Population')\n",
    "plt.title('Comparison between Deaths and Population Sizes (also shows percentages)')\n",
    "plt.legend(bbox_to_anchor=(1.05, 1), loc='upper left')\n",
    "\n",
    "# Calculate and display the percentage of deaths per population for each country\n",
    "for index, row in popDeath.iterrows():\n",
    "    deaths = row['Total_Deaths']\n",
    "    population = row['Population']\n",
    "    percent_deaths = round(deaths / population * 100, 4)\n",
    "    plt.text(deaths + 500, population + 500, f'{row[\"Country\"]}: {percent_deaths}%', fontsize=10)\n",
    "\n",
    "plt.show()\n"
   ]
  },
  {
   "cell_type": "code",
   "execution_count": null,
   "metadata": {},
   "outputs": [],
   "source": []
  }
 ],
 "metadata": {
  "kernelspec": {
   "display_name": "Python 3",
   "language": "python",
   "name": "python3"
  },
  "language_info": {
   "codemirror_mode": {
    "name": "ipython",
    "version": 3
   },
   "file_extension": ".py",
   "mimetype": "text/x-python",
   "name": "python",
   "nbconvert_exporter": "python",
   "pygments_lexer": "ipython3",
   "version": "3.8.5"
  }
 },
 "nbformat": 4,
 "nbformat_minor": 4
}
